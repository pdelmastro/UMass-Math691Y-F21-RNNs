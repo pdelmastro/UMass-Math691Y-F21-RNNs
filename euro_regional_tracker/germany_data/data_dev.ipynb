{
 "cells": [
  {
   "cell_type": "markdown",
   "metadata": {},
   "source": [
    "Initial look through the ```germany_data.csv``` from the European Regional Tracker datasets\n",
    "\n",
    "## Setup"
   ]
  },
  {
   "cell_type": "code",
   "execution_count": 10,
   "metadata": {},
   "outputs": [],
   "source": [
    "# Imports\n",
    "import torch\n",
    "import numpy as np\n",
    "import matplotlib.pyplot as plt\n",
    "from collections import defaultdict\n",
    "# mlp font size\n",
    "import matplotlib\n",
    "matplotlib.rc('font', size=18)"
   ]
  },
  {
   "cell_type": "code",
   "execution_count": 2,
   "metadata": {},
   "outputs": [],
   "source": [
    "\"\"\"\n",
    "--------------------------------------------------------------------\n",
    "    Constants\n",
    "--------------------------------------------------------------------\n",
    "\"\"\"\n",
    "data_fname = 'germany_data.csv'"
   ]
  },
  {
   "cell_type": "markdown",
   "metadata": {},
   "source": [
    "## Column Names"
   ]
  },
  {
   "cell_type": "code",
   "execution_count": 3,
   "metadata": {},
   "outputs": [
    {
     "name": "stdout",
     "output_type": "stream",
     "text": [
      "Column 0: nuts3_id\n",
      "Column 1: date\n",
      "Column 2: region\n",
      "Column 3: cases\n",
      "Column 4: deaths\n",
      "Column 5: population\n",
      "Column 6: cases_daily\n",
      "Column 7: deaths_daily\n"
     ]
    }
   ],
   "source": [
    "\"\"\"\n",
    "--------------------------------------------------------------------\n",
    "    Column names in the data file\n",
    "--------------------------------------------------------------------\n",
    "\"\"\"\n",
    "# Load the column names\n",
    "with open(data_fname, 'r') as datafile:\n",
    "    col_names = datafile.readline().split(';')\n",
    "    col_names = [c.strip() for c in col_names]\n",
    "\n",
    "# Print the column numbers along with column number\n",
    "for entry in enumerate(col_names):\n",
    "    print('Column %d: %s' % entry)\n",
    "    \n",
    "# Invert column names so their indices are easier to lookup\n",
    "cols_by_name = dict([(c_name,i) for i,c_name in enumerate(col_names)])"
   ]
  },
  {
   "cell_type": "markdown",
   "metadata": {},
   "source": [
    "## Number of Entries by Region"
   ]
  },
  {
   "cell_type": "code",
   "execution_count": 4,
   "metadata": {},
   "outputs": [],
   "source": [
    "\"\"\"\n",
    "--------------------------------------------------------------------\n",
    "    NUTS3 IDS - How much data is associated with each\n",
    "--------------------------------------------------------------------\n",
    "\"\"\"\n",
    "# List of columns to extract\n",
    "selected_columns = [\n",
    "    'cases',\n",
    "    'deaths',\n",
    "    'cases_daily',\n",
    "    'deaths_daily'\n",
    "]\n",
    "\n",
    "# Table to store the results of the parsing\n",
    "nuts3_id_table = defaultdict(lambda: defaultdict(int))\n",
    "\n",
    "# Convert selected columns into column numbers\n",
    "selected_column_inds = [\n",
    "    cols_by_name[c_name] for c_name in selected_columns\n",
    "]\n",
    "\n",
    "with open(data_fname, 'r') as datafile:\n",
    "    # Skip the first line\n",
    "    datafile.readline()\n",
    "    \n",
    "    # Read through the data in the file and \n",
    "    for line in datafile:\n",
    "\n",
    "        # Split on the ; deliminter\n",
    "        split_line = line.split(';')\n",
    "        \n",
    "        # Save the NUTS3 ID\n",
    "        nuts3_id = split_line[0]\n",
    "\n",
    "        # Loop over selected columns\n",
    "        for i, n_i in enumerate(selected_column_inds):\n",
    "            # Get the value of the i-th selected column\n",
    "            # for this line\n",
    "            c_val = split_line[n_i] \n",
    "            # If the value is not missing, then increment\n",
    "            # the counters for this column and this region\n",
    "            if len(c_val) > 0:\n",
    "                nuts3_id_table[nuts3_id][selected_columns[i]] += 1\n",
    "            \n",
    "        # Check to see if the population of the region\n",
    "        # has changed\n",
    "        # TODO: implemement"
   ]
  },
  {
   "cell_type": "code",
   "execution_count": 5,
   "metadata": {},
   "outputs": [
    {
     "name": "stdout",
     "output_type": "stream",
     "text": [
      "Number of regions: 401\n"
     ]
    }
   ],
   "source": [
    "# Print out number of regions\n",
    "all_nuts3_ids = sorted(list(nuts3_id_table.keys()))\n",
    "num_regions = len(all_nuts3_ids)\n",
    "print('Number of regions:', num_regions)"
   ]
  },
  {
   "cell_type": "code",
   "execution_count": 6,
   "metadata": {},
   "outputs": [],
   "source": [
    "# Reverse the nuts3_id_table to map from selected column \n",
    "# to a list of whose i-th entry if the number of datapoints\n",
    "# for the i-th region (order defined by all_nuts3_ids)\n",
    "num_datapoints_by_column = dict([\n",
    "    (c_name, np.zeros(num_regions)) for c_name in selected_columns\n",
    "])\n",
    "for i, nuts3_id in enumerate(all_nuts3_ids):\n",
    "    for c_name in selected_columns:\n",
    "        num_datapoints_by_column[c_name][i] = nuts3_id_table[nuts3_id][c_name]"
   ]
  },
  {
   "cell_type": "code",
   "execution_count": 7,
   "metadata": {},
   "outputs": [
    {
     "name": "stdout",
     "output_type": "stream",
     "text": [
      "All regions have the same number of entries for cases\n",
      "All regions have the same number of entries for deaths\n",
      "All regions have the same number of entries for cases_daily\n",
      "All regions have the same number of entries for deaths_daily\n"
     ]
    }
   ],
   "source": [
    "# Check to see if all regions have the same number of entries for\n",
    "# each column\n",
    "for c_name in selected_columns:\n",
    "    n_entries_for_first_region = num_datapoints_by_column[c_name][0]\n",
    "    if np.all(num_datapoints_by_column[c_name] == n_entries_for_first_region):\n",
    "        print('All regions have the same number of entries for', c_name)\n",
    "    else:\n",
    "        print('Not all region have the same number of entries for', c_name)"
   ]
  },
  {
   "cell_type": "markdown",
   "metadata": {},
   "source": [
    "## Population by Regions\n",
    "\n",
    "Checking to see if the population for each region is constant over time"
   ]
  },
  {
   "cell_type": "code",
   "execution_count": 8,
   "metadata": {},
   "outputs": [],
   "source": [
    "# Dictionary mapping from nuts3 id to list of the \n",
    "# regions population over time\n",
    "population_by_region = defaultdict(list)\n",
    "\n",
    "with open(data_fname, 'r') as datafile:\n",
    "    # Skip the first line\n",
    "    datafile.readline()\n",
    "    \n",
    "    # Read through the data in the file and \n",
    "    for line in datafile:\n",
    "\n",
    "        # Split on the ; deliminter\n",
    "        split_line = line.split(';')\n",
    "        \n",
    "        # Get the NUTS3 ID and population\n",
    "        nuts3_id = split_line[0]\n",
    "        population = split_line[5]\n",
    "\n",
    "        # Make an entry in the ```population_by_region ``` dict\n",
    "        population_by_region[nuts3_id].append(population)"
   ]
  },
  {
   "cell_type": "code",
   "execution_count": 9,
   "metadata": {},
   "outputs": [
    {
     "name": "stdout",
     "output_type": "stream",
     "text": [
      "All regions have a constant population value\n"
     ]
    }
   ],
   "source": [
    "constant_population = []\n",
    "\n",
    "# Check to see if population is constant for all the regions\n",
    "for i, nuts3_id in enumerate(all_nuts3_ids):\n",
    "    init_pop = population_by_region[nuts3_id][0]\n",
    "    for p in population_by_region[nuts3_id]:\n",
    "        if p != init_pop:\n",
    "            constant_population.append(False)\n",
    "            break\n",
    "    if len(constant_population) != i:\n",
    "        constant_population.append(True)\n",
    "        \n",
    "# Print out constant_population to see if all regions\n",
    "if all(constant_population):\n",
    "    print('All regions have a constant population value')\n",
    "else:\n",
    "    print('Some regions dont have a constant population value' )"
   ]
  },
  {
   "cell_type": "markdown",
   "metadata": {},
   "source": [
    "## Reformatting the data for PyTorch\n",
    "\n",
    "Going to break the data apart into five files\n",
    "\n",
    "**File 1**: ```region_data.csv``` : (# of regions,2)-NumPy array recording data about each region. In particular, for each region I'll record the NUTS3 ID and population\n",
    "\n",
    "**File 2**: ```cases.pt``` : (# of regions, # of data points) PyTorch array tracking the number of total cases by region as a function of time.\n",
    "\n",
    "**Files 3-5** Same as File 2, but for total deaths, cases by day, and deaths by day."
   ]
  },
  {
   "cell_type": "code",
   "execution_count": 11,
   "metadata": {},
   "outputs": [],
   "source": [
    "\"\"\"\n",
    "File 1: Region Data\n",
    "\"\"\"\n",
    "# Build the numpy array storing the region data\n",
    "region_data = []\n",
    "for i, nut3_id in enumerate(all_nuts3_ids):\n",
    "    region_data.append([nut3_id, int(population_by_region[nut3_id][0])])\n",
    "region_data = np.array(region_data, dtype='object')\n",
    "\n",
    "# Write the data to file\n",
    "np.savetxt(\n",
    "    './data/region_data.csv', region_data, \n",
    "    delimiter=',', fmt=('%s', '%d')\n",
    ")"
   ]
  },
  {
   "cell_type": "code",
   "execution_count": 31,
   "metadata": {},
   "outputs": [],
   "source": [
    "\"\"\"\n",
    "File 2-5: Actual Time-series\n",
    "\"\"\"\n",
    "\n",
    "# Part 1: Setup Torch tensors to store the time series data\n",
    "U = {}\n",
    "T_max = 0\n",
    "# Loop over columns containing data\n",
    "for c_name in num_datapoints_by_column:\n",
    "    \n",
    "    # Save the sequence length (# data points) for this data type\n",
    "    T = int(num_datapoints_by_column[c_name][0])\n",
    "    T_max = max(T_max, T)\n",
    "    \n",
    "    # Create a pytorch array to store the time-series for \n",
    "    # this data type\n",
    "    u = torch.zeros((num_regions, T)).int()\n",
    "    \n",
    "    # Add to the dictionary of torch tensors\n",
    "    U[c_name] = u\n",
    "\n",
    "    \n",
    "# Part 2: Go through the data file again and extract the time-series\n",
    "# Variable to keep track of which timestep we're on for the region \n",
    "#    we're currently process\n",
    "t = 0\n",
    "with open(data_fname, 'r') as datafile:\n",
    "    \n",
    "    # Skip the first line\n",
    "    datafile.readline()\n",
    "    \n",
    "    # Loop over the regions\n",
    "    for i in range(num_regions):\n",
    "\n",
    "        # Parse all lines associated with this region\n",
    "        for t in range(T_max):\n",
    "            line = datafile.readline()\n",
    "\n",
    "            # Split on the ; deliminter\n",
    "            split_line = line.split(';')\n",
    "\n",
    "            # Save the cases, deaths\n",
    "            U['cases'][i,t] = int(split_line[3])\n",
    "            U['deaths'][i,t] = int(split_line[4])\n",
    "            \n",
    "            # Save cases_daily and deaths_daily if they are present\n",
    "            # (i.e. for t > 0)\n",
    "            if t > 0:\n",
    "                U['cases_daily'][i,t-1] = int(split_line[6])\n",
    "                U['deaths_daily'][i,t-1] = int(split_line[7])\n",
    "                \n",
    "# Save the data to file now\n",
    "for c_name in U:\n",
    "    torch.save(U[c_name], './data/%s.pt' % c_name)"
   ]
  },
  {
   "cell_type": "markdown",
   "metadata": {},
   "source": [
    "## Functions for reading the data from file\n",
    "\n",
    "TODO:\n",
    "- Add functionality to normalize sequences to mean 0, stdev 1\n",
    "- Add functionality to normalize sequences by region population / 10000\n",
    "- Add functionality to compute the mean over the entire data"
   ]
  },
  {
   "cell_type": "code",
   "execution_count": 63,
   "metadata": {},
   "outputs": [],
   "source": [
    "def load_germany_data(dtype='cases_daily', seq_len=None, country_wide_avg=False,\n",
    "        per_10k_population=True, normalize=True\n",
    "    ):\n",
    "    \"\"\"\n",
    "    PARAMETERS\n",
    "    \n",
    "        dtype        : String. Controls which column the returned data comes from\n",
    "                       Options: 'cases', 'deaths', 'cases_daily', 'deaths_daily'\n",
    "                       Default: 'causes_daily'\n",
    "    \n",
    "        seq_len      : Int. Length of the sequences to return. \n",
    "                       If 'None', returns the maximum sequence length\n",
    "                       Default: None\n",
    "        \n",
    "        country_wide_avg   : Boolean. Set to true to collapse the data into a single\n",
    "                       time series representing the average over the entire country\n",
    "                       Default: False\n",
    "                       \n",
    "        per_10k_population : \n",
    "        \n",
    "        \n",
    "        normalize    : Boolean. Set to true to normalize the returned data to have \n",
    "                       zero mean and unit variance\n",
    "    \n",
    "    RETURNS\n",
    "    \n",
    "        u            : (# regions, seq len)-PyTorch tensor storing the time-series data\n",
    "                       for Germany. Here, # regions = 1 if country_wide_avg=True, otherwise 401\n",
    "\n",
    "    \"\"\"\n",
    "    # Verify the data type if valid\n",
    "    if dtype not in ['cases', 'deaths', 'cases_daily', 'deaths_daily']:\n",
    "        raise ValueError('dtype %s not recognized' % dtype)\n",
    "    \n",
    "    # Load the raw Torch data from file\n",
    "    u = torch.load('./data/%s.pt' % dtype).float()\n",
    "    \n",
    "    # Set the sequence length\n",
    "    if seq_len and seq_len < u.shape[1]:\n",
    "        u = u[:,seq_len]\n",
    "    \n",
    "    # Compute the average over all regions\n",
    "    if country_wide_avg:\n",
    "        u = u.mean(axis=0)\n",
    "    \n",
    "    # Normalize by population\n",
    "    elif per_10k_population:\n",
    "        # Load the population data from file\n",
    "        population_data = np.loadtxt(\n",
    "            './data/region_data.csv', dtype='object', delimiter=','\n",
    "        )[:,1].astype('int')\n",
    "        \n",
    "        # Normalize \n",
    "        u = (u.T * 10000 / population_data).T\n",
    "          \n",
    "    # Normalize to zero mean, unit variance\n",
    "    if normalize:\n",
    "        u -= torch.mean(u)\n",
    "        u /= torch.std(u)\n",
    "    \n",
    "    # Return the sequence(s)\n",
    "    return u"
   ]
  },
  {
   "cell_type": "code",
   "execution_count": 75,
   "metadata": {},
   "outputs": [],
   "source": [
    "u = load_germany_data(dtype='cases_daily', country_wide_avg=True)"
   ]
  },
  {
   "cell_type": "code",
   "execution_count": 79,
   "metadata": {},
   "outputs": [
    {
     "data": {
      "image/png": "[encoded data removed]",
      "text/plain": [
       "<Figure size 720x432 with 1 Axes>"
      ]
     },
     "metadata": {
      "needs_background": "light"
     },
     "output_type": "display_data"
    }
   ],
   "source": [
    "plt.figure(figsize=(10,6))\n",
    "plt.title('Germany: Normalized Daily Cases, Country-wide avg')\n",
    "plt.title('Time t (# days)')\n",
    "plt.ylabel('# of cases (normalized)')\n",
    "plt.plot(u)\n",
    "plt.show()"
   ]
  }
 ],
 "metadata": {
  "kernelspec": {
   "display_name": "Python 3 (ipykernel)",
   "language": "python",
   "name": "python3"
  },
  "language_info": {
   "codemirror_mode": {
    "name": "ipython",
    "version": 3
   },
   "file_extension": ".py",
   "mimetype": "text/x-python",
   "name": "python",
   "nbconvert_exporter": "python",
   "pygments_lexer": "ipython3",
   "version": "3.8.10"
  }
 },
 "nbformat": 4,
 "nbformat_minor": 4
}
