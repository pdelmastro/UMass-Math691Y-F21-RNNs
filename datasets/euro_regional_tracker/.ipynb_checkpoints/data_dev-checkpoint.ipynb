{
 "cells": [
  {
   "cell_type": "markdown",
   "metadata": {},
   "source": [
    "Initial look through the ```master.csv``` from the European Regional Tracker datasets\n",
    "\n",
    "## Setup"
   ]
  },
  {
   "cell_type": "code",
   "execution_count": 1,
   "metadata": {},
   "outputs": [],
   "source": [
    "# Imports\n",
    "import numpy as np\n",
    "import matplotlib.pyplot as plt\n",
    "# mlp font size\n",
    "import matplotlib\n",
    "matplotlib.rc('font', size=18)"
   ]
  },
  {
   "cell_type": "code",
   "execution_count": 2,
   "metadata": {},
   "outputs": [],
   "source": [
    "\"\"\"\n",
    "--------------------------------------------------------------------\n",
    "    Constants\n",
    "--------------------------------------------------------------------\n",
    "\"\"\"\n",
    "data_fname = 'EUROPE_COVID19_master.csv'"
   ]
  },
  {
   "cell_type": "code",
   "execution_count": 3,
   "metadata": {},
   "outputs": [
    {
     "name": "stdout",
     "output_type": "stream",
     "text": [
      "Column 0: country\n",
      "Column 1: nuts0_id\n",
      "Column 2: nuts2_id\n",
      "Column 3: nuts3_id\n",
      "Column 4: nuts_id\n",
      "Column 5: nuts_name\n",
      "Column 6: date\n",
      "Column 7: population\n",
      "Column 8: cases\n",
      "Column 9: cases_daily\n",
      "Column 10: cases_pop\n",
      "Column 11: cases_daily_pop\n",
      "\n"
     ]
    }
   ],
   "source": [
    "\"\"\"\n",
    "--------------------------------------------------------------------\n",
    "    Column names in the data file\n",
    "--------------------------------------------------------------------\n",
    "\"\"\"\n",
    "# Load the column names\n",
    "with open(data_fname, 'r') as datafile:\n",
    "    col_names = datafile.readline().split(';')\n",
    "\n",
    "# Print the column numbers along with column number\n",
    "for entry in enumerate(col_names):\n",
    "    print('Column %d: %s' % entry)"
   ]
  },
  {
   "cell_type": "markdown",
   "metadata": {},
   "source": [
    "## Deciding on Functionality\n",
    "\n"
   ]
  },
  {
   "cell_type": "markdown",
   "metadata": {},
   "source": [
    "Need to decide what I plan to do with the dataset so I know what functions to write.\n",
    "\n",
    "UPDATE: decided to look at the data from Germany first."
   ]
  },
  {
   "cell_type": "code",
   "execution_count": null,
   "metadata": {},
   "outputs": [],
   "source": []
  }
 ],
 "metadata": {
  "kernelspec": {
   "display_name": "Python 3",
   "language": "python",
   "name": "python3"
  },
  "language_info": {
   "codemirror_mode": {
    "name": "ipython",
    "version": 3
   },
   "file_extension": ".py",
   "mimetype": "text/x-python",
   "name": "python",
   "nbconvert_exporter": "python",
   "pygments_lexer": "ipython3",
   "version": "3.5.2"
  }
 },
 "nbformat": 4,
 "nbformat_minor": 4
}
